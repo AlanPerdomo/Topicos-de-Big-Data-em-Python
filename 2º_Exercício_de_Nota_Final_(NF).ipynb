{
  "nbformat": 4,
  "nbformat_minor": 0,
  "metadata": {
    "colab": {
      "provenance": [],
      "authorship_tag": "ABX9TyMqBfe1by9z70TzDaLObWTQ",
      "include_colab_link": true
    },
    "kernelspec": {
      "name": "python3",
      "display_name": "Python 3"
    },
    "language_info": {
      "name": "python"
    }
  },
  "cells": [
    {
      "cell_type": "markdown",
      "metadata": {
        "id": "view-in-github",
        "colab_type": "text"
      },
      "source": [
        "<a href=\"https://colab.research.google.com/github/AlanPerdomo/Topicos-de-Big-Data-em-Python/blob/main/2%C2%BA_Exerc%C3%ADcio_de_Nota_Final_(NF).ipynb\" target=\"_parent\"><img src=\"https://colab.research.google.com/assets/colab-badge.svg\" alt=\"Open In Colab\"/></a>"
      ]
    },
    {
      "cell_type": "markdown",
      "source": [
        "1. Escreva um programa Pandas para somar, subtrair, multiplicar e dividir duas séries Pandas.\n"
      ],
      "metadata": {
        "id": "K9yoJ782ZSvu"
      }
    },
    {
      "cell_type": "code",
      "source": [
        "import pandas as pd\n",
        "\n",
        "serie1 = pd.Series([1,2,3,4,5])\n",
        "serie2 = pd.Series([22,33,44,55,66])\n",
        "\n",
        "soma = serie1 + serie2\n",
        "subtracao = serie1 - serie2\n",
        "multiplicacao = serie1 * serie2\n",
        "divisao = serie1 / serie2\n",
        "\n",
        "print(\"Soma: \\n\", soma)\n",
        "print(\"Subtração: \\n\", subtracao)\n",
        "print(\"Multiplicação: \\n\", multiplicacao)\n",
        "print(\"Divisao: \\n\", divisao)\n"
      ],
      "metadata": {
        "id": "Vtu_clDs8jWP"
      },
      "execution_count": null,
      "outputs": []
    },
    {
      "cell_type": "markdown",
      "source": [
        "2. Escreva um programa Pandas para converter um array NumPy em uma série Pandas."
      ],
      "metadata": {
        "id": "6R6hpgPDZbot"
      }
    },
    {
      "cell_type": "code",
      "source": [
        "import pandas as pd\n",
        "import numpy as np\n",
        "\n",
        "array = np.array([1, 2, 3, 4, 5])\n",
        "serie = pd.Series(array)\n",
        "\n",
        "print(serie)"
      ],
      "metadata": {
        "id": "WM_WBBHyZxPX"
      },
      "execution_count": null,
      "outputs": []
    },
    {
      "cell_type": "markdown",
      "source": [
        "3. Escreva um programa Pandas para converter um dicionário (dict) em uma série Pandas."
      ],
      "metadata": {
        "id": "e8hrt-WfZeXT"
      }
    },
    {
      "cell_type": "code",
      "source": [
        "import pandas as pd \n",
        "\n",
        "dicionario = {\"Alan\":1,\"Perdomo\":2,\"e\":3,\"Silva\":4}\n",
        "serie = pd.Series(dicionario)\n",
        "\n",
        "print(serie)"
      ],
      "metadata": {
        "id": "IhSMvQoiZyMz"
      },
      "execution_count": null,
      "outputs": []
    },
    {
      "cell_type": "markdown",
      "source": [
        "4. Escreva um programa Pandas para converter uma determinada série em um array."
      ],
      "metadata": {
        "id": "LI9sDz1YZevM"
      }
    },
    {
      "cell_type": "code",
      "source": [
        "import pandas as pd\n",
        "\n",
        "serie = pd.Series([1, 2, 3, 4, 5])\n",
        "array = serie.values\n",
        "\n",
        "print(array)\n"
      ],
      "metadata": {
        "id": "8bpwzvPTZzGc"
      },
      "execution_count": null,
      "outputs": []
    },
    {
      "cell_type": "markdown",
      "source": [
        "5. Escreva um programa para ordenar uma Serie.\n"
      ],
      "metadata": {
        "id": "3vgDsxVDZfDk"
      }
    },
    {
      "cell_type": "code",
      "source": [
        "import pandas as pd\n",
        "import random\n",
        "\n",
        "array = []\n",
        "for num in range (5):\n",
        "    index = random.randint(0, 1000)\n",
        "    array.append(index)\n",
        "\n",
        "serie = pd.Series(array)\n",
        "serie_ordenada = serie.sort_values()\n",
        "\n",
        "print(serie_ordenada)\n"
      ],
      "metadata": {
        "colab": {
          "base_uri": "https://localhost:8080/"
        },
        "id": "j-BsZdX6Zznc",
        "outputId": "85db1926-bd01-4c65-93f0-faec8568dec4"
      },
      "execution_count": 16,
      "outputs": [
        {
          "output_type": "stream",
          "name": "stdout",
          "text": [
            "1     77\n",
            "2    243\n",
            "3    255\n",
            "0    342\n",
            "4    764\n",
            "dtype: int64\n"
          ]
        }
      ]
    },
    {
      "cell_type": "markdown",
      "source": [
        "6."
      ],
      "metadata": {
        "id": "_Dm2UPuoZfVU"
      }
    },
    {
      "cell_type": "code",
      "source": [
        "import pandas as pd\n",
        "\n",
        "data = {\n",
        "    'x':[78,85,96,80,86],\n",
        "    'y':[84,94,89,83,86],\n",
        "    'z':[86,97,96,72,83]\n",
        "}\n",
        "\n",
        "df = pd.DataFrame(data)\n",
        "\n",
        "print(df)"
      ],
      "metadata": {
        "id": "WM33awfnZ0Ca"
      },
      "execution_count": null,
      "outputs": []
    },
    {
      "cell_type": "markdown",
      "source": [
        "7."
      ],
      "metadata": {
        "id": "NgfsKDByZflV"
      }
    },
    {
      "cell_type": "code",
      "source": [
        "import pandas as pd\n",
        "\n",
        "data = {\n",
        "    'name': [\"Anastasia\", \"Dimas\", \"Katherine\", \"James\", \"Emily\", \"Michael\", \"Matthew\", \"laura\", \"Kevin\", \"Jonas\"],\n",
        "    'score': [12.5, 9.0, 16.5, 10.3, 9.0, 20.0, 14.5, 8.2, 8.0, 19.0],\n",
        "    'attempts': [1, 3, 2, 3, 2, 3, 1, 1, 2, 1],\n",
        "    'qualify': [\"yes\", \"no\", \"yes\", \"no\", \"no\", \"yes\", \"yes\", \"no\", \"no\", \"yes\",]\n",
        "}\n",
        "df = pd.DataFrame(data)\n",
        "\n",
        "questao_A = df[df['attempts'] > 2]['name']\n",
        "print(\"Pessoas que tiveram mais que 2 tentativas: \\n\", questao_A)\n",
        "print(\"----------------------------------------\")\n",
        "\n",
        "#quetao_B\n",
        "df['qualify'] = df['qualify'].apply(lambda x: 'Sim' if x == 'yes' else 'Não')\n",
        "\n",
        "questao_C = df[df['score'] < 10.0]['name']\n",
        "print(\"Pessoas com pontuação menor que 10.0: \\n\", questao_C)\n",
        "print(\"----------------------------------------\")\n",
        "\n",
        "questao_D = df[df[\"qualify\"] == \"Sim\"][\"name\"]\n",
        "print(\"Pessoas com Quelificação positiva: \\n\", questao_D)\n",
        "print(\"----------------------------------------\")\n",
        "\n",
        "questao_E = df[[\"name\", \"score\"]]\n",
        "print(\"Nome e pontuação das pessoas: \\n\", questao_E)\n",
        "print(\"----------------------------------------\")\n",
        "\n",
        "questao_Fmed = df[\"score\"].mean()\n",
        "questao_Fmod = df[\"score\"].mode()\n",
        "print(\"Média: \", questao_Fmed)\n",
        "print(\"Moda: \", questao_Fmod)\n",
        "print(\"----------------------------------------\")\n",
        "\n",
        "questao_G = df.sort_values(by=\"score\", ascending=False)\n",
        "print(\"Dataframe ordenado por pontuação: \\n\", questao_G)\n",
        "print(\"----------------------------------------\")\n",
        "\n",
        "questao_H = df.describe()\n",
        "print(\"Estatisticas: \\n\", questao_H)\n",
        "print(\"----------------------------------------\")"
      ],
      "metadata": {
        "id": "9fcnajcAZ0cm"
      },
      "execution_count": null,
      "outputs": []
    }
  ]
}